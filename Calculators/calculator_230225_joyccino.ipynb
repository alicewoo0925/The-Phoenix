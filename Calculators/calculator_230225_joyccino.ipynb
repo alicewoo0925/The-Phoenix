{
  "nbformat": 4,
  "nbformat_minor": 0,
  "metadata": {
    "colab": {
      "provenance": []
    },
    "kernelspec": {
      "name": "python3",
      "display_name": "Python 3"
    },
    "language_info": {
      "name": "python"
    }
  },
  "cells": [
    {
      "cell_type": "code",
      "execution_count": 1,
      "metadata": {
        "id": "niRqKYg-n8PS"
      },
      "outputs": [],
      "source": [
        "def calculator(num1, num2, operator):\n",
        "    \"\"\"\n",
        "    두 숫자와 사칙연산 기호를 받아서 계산을 수행하는 함수\n",
        "    :param num1: 첫 번째 숫자\n",
        "    :param num2: 두 번째 숫자\n",
        "    :param operator: 사칙연산 기호 (+, -, *, / 중 하나)\n",
        "    :return: 계산 결과\n",
        "    \"\"\"\n",
        "    if operator == '+':     # 덧셈 연산\n",
        "        result = num1 + num2\n",
        "    elif operator == '-':   # 뺄셈 연산\n",
        "        result = num1 - num2\n",
        "    elif operator == 'x':   # 곱셈 연산\n",
        "        result = num1 * num2\n",
        "    elif operator == '÷':   # 나눗셈 연산\n",
        "        if num2 == 0:\n",
        "            print(\"0으로 나눌 수 없습니다.\")\n",
        "            return None\n",
        "        result = num1 / num2\n",
        "    else:\n",
        "        print(\"사칙연산 기호가 올바르지 않습니다.\")\n",
        "        return None\n",
        "    return result"
      ]
    },
    {
      "cell_type": "code",
      "source": [
        "calculator(4, 2, '÷')"
      ],
      "metadata": {
        "colab": {
          "base_uri": "https://localhost:8080/"
        },
        "id": "7HdX-iEXn9O4",
        "outputId": "c14b3005-efc6-4f12-c8d0-785b6323a287"
      },
      "execution_count": 6,
      "outputs": [
        {
          "output_type": "execute_result",
          "data": {
            "text/plain": [
              "2.0"
            ]
          },
          "metadata": {},
          "execution_count": 6
        }
      ]
    }
  ]
}