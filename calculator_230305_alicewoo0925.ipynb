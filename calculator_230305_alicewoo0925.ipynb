{
  "nbformat": 4,
  "nbformat_minor": 0,
  "metadata": {
    "colab": {
      "provenance": []
    },
    "kernelspec": {
      "name": "python3",
      "display_name": "Python 3"
    },
    "language_info": {
      "name": "python"
    }
  },
  "cells": [
    {
      "cell_type": "code",
      "execution_count": 10,
      "metadata": {
        "id": "WvUFgtHfhoEQ"
      },
      "outputs": [],
      "source": [
        "def calculator(num1,num2,op):\n",
        "  '''\n",
        "  a function to conduct a simple calculation\n",
        "  input: the first number, the second number and operator\n",
        "  output: the result of calculation\n",
        "  '''\n",
        "  if op == '+': # addition\n",
        "    ans = num1 + num2\n",
        "\n",
        "  elif op == '-': # substraction\n",
        "    ans = num1 - num2\n",
        "\n",
        "  elif op == '*': # multiplication\n",
        "    ans = num1 * num2\n",
        "\n",
        "  elif op == '/': # division\n",
        "    if num2 == 0: \n",
        "      print('숫자를 0으로 나눌 수 없습니다. 다른 숫자를 입력해주세요.')\n",
        "      return None\n",
        "    else:\n",
        "      ans = num1 / num2\n",
        "\n",
        "  else: # incorrect op input\n",
        "    print('연산 기호가 바르지 않습니다. 다른 기호를 입력해주세요.')\n",
        "    return None\n",
        "\n",
        "  return ans\n"
      ]
    },
    {
      "cell_type": "code",
      "source": [
        "calculator(2,5,'*')"
      ],
      "metadata": {
        "colab": {
          "base_uri": "https://localhost:8080/"
        },
        "id": "8-bEgNgIrK67",
        "outputId": "e513183f-d30a-42ef-e102-2ebe0f506fb8"
      },
      "execution_count": 20,
      "outputs": [
        {
          "output_type": "execute_result",
          "data": {
            "text/plain": [
              "10"
            ]
          },
          "metadata": {},
          "execution_count": 20
        }
      ]
    },
    {
      "cell_type": "code",
      "source": [
        "def calculator2():\n",
        "  num1 = float(input('첫번째 숫자: '))\n",
        "  num2 = float(input('두번째 숫자: '))\n",
        "  op = str(input('연산 기호 (+,-,*,/): '))\n",
        "  \n",
        "  if op == '+': # addition\n",
        "      ans = num1 + num2\n",
        "\n",
        "  elif op == '-': # substraction\n",
        "    ans = num1 - num2\n",
        "  \n",
        "  elif op == '*': # multiplication\n",
        "    ans = num1 * num2\n",
        "\n",
        "  elif op == '/': # division\n",
        "    if num2 == 0: \n",
        "      print('숫자를 0으로 나눌 수 없습니다. 다른 숫자를 입력해주세요.')\n",
        "      return None\n",
        "    else:\n",
        "      ans = num1 / num2\n",
        "  \n",
        "  else: # incorrect op input\n",
        "    print('연산 기호가 바르지 않습니다. 다른 기호를 입력해주세요.')\n",
        "    return None\n",
        "\n",
        "  return ans\n",
        "  "
      ],
      "metadata": {
        "id": "VYLZQ2TTpzsT"
      },
      "execution_count": 18,
      "outputs": []
    },
    {
      "cell_type": "code",
      "source": [
        "calculator2()"
      ],
      "metadata": {
        "colab": {
          "base_uri": "https://localhost:8080/"
        },
        "id": "0BdfBiAuqxsa",
        "outputId": "34b68aa7-b871-4dc4-82b9-6fc5ce9518c7"
      },
      "execution_count": 19,
      "outputs": [
        {
          "name": "stdout",
          "output_type": "stream",
          "text": [
            "첫번째 숫자: 2\n",
            "두번째 숫자: 5\n",
            "연산 기호 (+,-,*,/): *\n"
          ]
        },
        {
          "output_type": "execute_result",
          "data": {
            "text/plain": [
              "10.0"
            ]
          },
          "metadata": {},
          "execution_count": 19
        }
      ]
    }
  ]
}